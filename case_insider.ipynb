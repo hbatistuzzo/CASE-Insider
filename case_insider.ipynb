{
 "cells": [
  {
   "cell_type": "markdown",
   "metadata": {},
   "source": [
    "# <p style=\"padding:10px;background-color:#0fa79f;margin:0;color:#111423;font-family:newtimeroman;font-size:150%;text-align:center;border-radius: 15px 50px;overflow:hidden;font-weight:500\">InsiderStore CASE</p>"
   ]
  },
  {
   "cell_type": "code",
   "execution_count": 2,
   "metadata": {},
   "outputs": [],
   "source": [
    "import numpy as np\n",
    "import matplotlib.pyplot as plt\n",
    "import pandas as pd\n",
    "import seaborn as sns\n",
    "import matplotlib"
   ]
  },
  {
   "cell_type": "code",
   "execution_count": 3,
   "metadata": {},
   "outputs": [
    {
     "name": "stdout",
     "output_type": "stream",
     "text": [
      "Pandas version: 1.4.4\n",
      "Numpy version: 1.21.5\n",
      "Seaborn version: 0.11.2\n",
      "Matplotlib version: 3.5.2\n"
     ]
    }
   ],
   "source": [
    "print(f'Pandas version: {pd.__version__}')\n",
    "print(f'Numpy version: {np.__version__}')\n",
    "print(f'Seaborn version: {sns.__version__}')\n",
    "print(f'Matplotlib version: {matplotlib.__version__}')"
   ]
  },
  {
   "cell_type": "markdown",
   "metadata": {},
   "source": [
    "<a id=\"3\"></a>\n",
    "# <p style=\"padding:10px;background-color:#0fa79f;margin:0;color:#111423;font-family:newtimeroman;font-size:100%;text-align:center;border-radius: 15px 50px;overflow:hidden;font-weight:500\">Initial Data Inspection</p>\n",
    "\n",
    "**Importing the datasets**"
   ]
  },
  {
   "cell_type": "markdown",
   "metadata": {},
   "source": [
    "<center> <span style=\"font-family:newtimeroman\"> <span style=\"padding:5px;color:white;display:fill;border-radius:20px 50px;background-color:#FDD667;font-size:200%;font-weight: 500;color:#111423;overflow:hidden;\">ㅤClient Base Datasetㅤ</span>"
   ]
  },
  {
   "cell_type": "code",
   "execution_count": 15,
   "metadata": {},
   "outputs": [],
   "source": [
    "clients = pd.read_csv(\"data/Base Case CRM 2022 - base_clientes.csv\")"
   ]
  },
  {
   "cell_type": "code",
   "execution_count": 21,
   "metadata": {},
   "outputs": [
    {
     "data": {
      "text/html": [
       "<div>\n",
       "<style scoped>\n",
       "    .dataframe tbody tr th:only-of-type {\n",
       "        vertical-align: middle;\n",
       "    }\n",
       "\n",
       "    .dataframe tbody tr th {\n",
       "        vertical-align: top;\n",
       "    }\n",
       "\n",
       "    .dataframe thead th {\n",
       "        text-align: right;\n",
       "    }\n",
       "</style>\n",
       "<table border=\"1\" class=\"dataframe\">\n",
       "  <thead>\n",
       "    <tr style=\"text-align: right;\">\n",
       "      <th></th>\n",
       "      <th>Email</th>\n",
       "      <th>Sexo</th>\n",
       "      <th>Cidade</th>\n",
       "      <th>Estado</th>\n",
       "    </tr>\n",
       "  </thead>\n",
       "  <tbody>\n",
       "    <tr>\n",
       "      <th>0</th>\n",
       "      <td>cliente71@yahoo.com.br</td>\n",
       "      <td>M</td>\n",
       "      <td>São Paulo</td>\n",
       "      <td>SP</td>\n",
       "    </tr>\n",
       "    <tr>\n",
       "      <th>1</th>\n",
       "      <td>cliente129@outlook.com</td>\n",
       "      <td>M</td>\n",
       "      <td>Londrina</td>\n",
       "      <td>PR</td>\n",
       "    </tr>\n",
       "    <tr>\n",
       "      <th>2</th>\n",
       "      <td>cliente150@bol.com.br</td>\n",
       "      <td>F</td>\n",
       "      <td>Rio de Janeiro</td>\n",
       "      <td>RJ</td>\n",
       "    </tr>\n",
       "    <tr>\n",
       "      <th>3</th>\n",
       "      <td>cliente231@bol.com.br</td>\n",
       "      <td>M</td>\n",
       "      <td>Recife</td>\n",
       "      <td>PE</td>\n",
       "    </tr>\n",
       "    <tr>\n",
       "      <th>4</th>\n",
       "      <td>cliente12@outlook.com</td>\n",
       "      <td>F</td>\n",
       "      <td>Caraguatatuba</td>\n",
       "      <td>SP</td>\n",
       "    </tr>\n",
       "  </tbody>\n",
       "</table>\n",
       "</div>"
      ],
      "text/plain": [
       "                    Email Sexo          Cidade Estado\n",
       "0  cliente71@yahoo.com.br    M       São Paulo     SP\n",
       "1  cliente129@outlook.com    M        Londrina     PR\n",
       "2   cliente150@bol.com.br    F  Rio de Janeiro     RJ\n",
       "3   cliente231@bol.com.br    M          Recife     PE\n",
       "4   cliente12@outlook.com    F   Caraguatatuba     SP"
      ]
     },
     "execution_count": 21,
     "metadata": {},
     "output_type": "execute_result"
    }
   ],
   "source": [
    "clients.head()"
   ]
  },
  {
   "cell_type": "code",
   "execution_count": 18,
   "metadata": {},
   "outputs": [
    {
     "name": "stdout",
     "output_type": "stream",
     "text": [
      "<class 'pandas.core.frame.DataFrame'>\n",
      "RangeIndex: 297 entries, 0 to 296\n",
      "Data columns (total 4 columns):\n",
      " #   Column  Non-Null Count  Dtype \n",
      "---  ------  --------------  ----- \n",
      " 0   Email   297 non-null    object\n",
      " 1   Sexo    274 non-null    object\n",
      " 2   Cidade  297 non-null    object\n",
      " 3   Estado  297 non-null    object\n",
      "dtypes: object(4)\n",
      "memory usage: 9.4+ KB\n"
     ]
    }
   ],
   "source": [
    "clients.info()"
   ]
  },
  {
   "cell_type": "code",
   "execution_count": 48,
   "metadata": {},
   "outputs": [
    {
     "data": {
      "text/plain": [
       "M    189\n",
       "F     85\n",
       "Name: Sexo, dtype: int64"
      ]
     },
     "execution_count": 48,
     "metadata": {},
     "output_type": "execute_result"
    }
   ],
   "source": [
    "clients['Sexo'].value_counts()"
   ]
  },
  {
   "cell_type": "code",
   "execution_count": 56,
   "metadata": {},
   "outputs": [
    {
     "data": {
      "text/plain": [
       "SP    117\n",
       "RJ     30\n",
       "MG     27\n",
       "PR     24\n",
       "AM     24\n",
       "CE     24\n",
       "PE     21\n",
       "SC     12\n",
       "RN      9\n",
       "DF      6\n",
       "GO      3\n",
       "Name: Estado, dtype: int64"
      ]
     },
     "execution_count": 56,
     "metadata": {},
     "output_type": "execute_result"
    }
   ],
   "source": [
    "clients['Estado'].value_counts()"
   ]
  },
  {
   "cell_type": "code",
   "execution_count": 62,
   "metadata": {},
   "outputs": [
    {
     "data": {
      "text/plain": [
       "São Paulo              48\n",
       "Fortaleza              24\n",
       "Manaus                 24\n",
       "Recife                 21\n",
       "São José dos Campos    21\n",
       "Cotia                  18\n",
       "Rio de Janeiro         18\n",
       "Campinas               15\n",
       "Curitiba               15\n",
       "Belo Horizonte         15\n",
       "Florianópolis          12\n",
       "Angra dos Reis         12\n",
       "Caraguatatuba          12\n",
       "Londrina                9\n",
       "Contagem                9\n",
       "Natal                   9\n",
       "Brasília                6\n",
       "Jacareí                 3\n",
       "Goiânia                 3\n",
       "Cordisburgo             3\n",
       "Name: Cidade, dtype: int64"
      ]
     },
     "execution_count": 62,
     "metadata": {},
     "output_type": "execute_result"
    }
   ],
   "source": [
    "clients['Cidade'].value_counts()"
   ]
  },
  {
   "cell_type": "markdown",
   "metadata": {},
   "source": [
    "**Insights:**\n",
    "- 297 unique clients, 189 male (63.6%), 85 female (28.6%) and 23 undeclared (7.7%)\n",
    "- 40% of all clients from SP, followed by ~10% each from RJ, MG. Overall, the SE region accounts for ~60% of clients."
   ]
  },
  {
   "cell_type": "markdown",
   "metadata": {},
   "source": [
    "**Additional checks below**"
   ]
  },
  {
   "cell_type": "code",
   "execution_count": 63,
   "metadata": {},
   "outputs": [
    {
     "data": {
      "text/plain": [
       "Email      0\n",
       "Sexo      23\n",
       "Cidade     0\n",
       "Estado     0\n",
       "dtype: int64"
      ]
     },
     "execution_count": 63,
     "metadata": {},
     "output_type": "execute_result"
    }
   ],
   "source": [
    "clients.isna().sum()"
   ]
  },
  {
   "cell_type": "markdown",
   "metadata": {},
   "source": [
    "**Final Remarks**\n",
    "- No cleaning necessary. NaNs in Sexo column indicative of clients who prefer not to declare binary genders."
   ]
  },
  {
   "cell_type": "markdown",
   "metadata": {},
   "source": [
    "<center> <span style=\"font-family:newtimeroman\"> <span style=\"padding:5px;color:white;display:fill;border-radius:20px 50px;background-color:#FDD667;font-size:200%;font-weight: 500;color:#111423;overflow:hidden;\">ㅤItem Base Datasetㅤ</span>"
   ]
  },
  {
   "cell_type": "code",
   "execution_count": 31,
   "metadata": {},
   "outputs": [],
   "source": [
    "items = pd.read_excel(\"data/Base Case CRM 2022 - base_itens.xlsx\")"
   ]
  },
  {
   "cell_type": "code",
   "execution_count": 22,
   "metadata": {},
   "outputs": [
    {
     "data": {
      "text/html": [
       "<div>\n",
       "<style scoped>\n",
       "    .dataframe tbody tr th:only-of-type {\n",
       "        vertical-align: middle;\n",
       "    }\n",
       "\n",
       "    .dataframe tbody tr th {\n",
       "        vertical-align: top;\n",
       "    }\n",
       "\n",
       "    .dataframe thead th {\n",
       "        text-align: right;\n",
       "    }\n",
       "</style>\n",
       "<table border=\"1\" class=\"dataframe\">\n",
       "  <thead>\n",
       "    <tr style=\"text-align: right;\">\n",
       "      <th></th>\n",
       "      <th>Order ID</th>\n",
       "      <th>Cupom</th>\n",
       "      <th>Order_email</th>\n",
       "      <th>Data Compra</th>\n",
       "      <th>SKU</th>\n",
       "      <th>qtd</th>\n",
       "      <th>preco_unitario</th>\n",
       "      <th>subtotal</th>\n",
       "      <th>desconto</th>\n",
       "      <th>total</th>\n",
       "    </tr>\n",
       "  </thead>\n",
       "  <tbody>\n",
       "    <tr>\n",
       "      <th>0</th>\n",
       "      <td>IN-1288</td>\n",
       "      <td>NaN</td>\n",
       "      <td>cliente141@gmail.com</td>\n",
       "      <td>2021-10-01</td>\n",
       "      <td>11</td>\n",
       "      <td>1</td>\n",
       "      <td>60</td>\n",
       "      <td>60</td>\n",
       "      <td>0.0</td>\n",
       "      <td>60.0</td>\n",
       "    </tr>\n",
       "    <tr>\n",
       "      <th>1</th>\n",
       "      <td>IN-1341</td>\n",
       "      <td>NaN</td>\n",
       "      <td>cliente212@outlook.com</td>\n",
       "      <td>2022-02-08</td>\n",
       "      <td>10</td>\n",
       "      <td>1</td>\n",
       "      <td>145</td>\n",
       "      <td>145</td>\n",
       "      <td>0.0</td>\n",
       "      <td>145.0</td>\n",
       "    </tr>\n",
       "    <tr>\n",
       "      <th>2</th>\n",
       "      <td>IN-1438</td>\n",
       "      <td>NaN</td>\n",
       "      <td>cliente251@gmail.com</td>\n",
       "      <td>2022-02-03</td>\n",
       "      <td>8</td>\n",
       "      <td>3</td>\n",
       "      <td>130</td>\n",
       "      <td>390</td>\n",
       "      <td>0.0</td>\n",
       "      <td>390.0</td>\n",
       "    </tr>\n",
       "    <tr>\n",
       "      <th>3</th>\n",
       "      <td>IN-1218</td>\n",
       "      <td>NaN</td>\n",
       "      <td>cliente97@outlook.com</td>\n",
       "      <td>2021-10-20</td>\n",
       "      <td>11</td>\n",
       "      <td>3</td>\n",
       "      <td>60</td>\n",
       "      <td>180</td>\n",
       "      <td>0.0</td>\n",
       "      <td>180.0</td>\n",
       "    </tr>\n",
       "    <tr>\n",
       "      <th>4</th>\n",
       "      <td>IN-1207</td>\n",
       "      <td>NaN</td>\n",
       "      <td>cliente211@outlook.com</td>\n",
       "      <td>2022-02-04</td>\n",
       "      <td>13</td>\n",
       "      <td>1</td>\n",
       "      <td>70</td>\n",
       "      <td>70</td>\n",
       "      <td>0.0</td>\n",
       "      <td>70.0</td>\n",
       "    </tr>\n",
       "  </tbody>\n",
       "</table>\n",
       "</div>"
      ],
      "text/plain": [
       "  Order ID Cupom             Order_email Data Compra  SKU  qtd  \\\n",
       "0  IN-1288   NaN    cliente141@gmail.com  2021-10-01   11    1   \n",
       "1  IN-1341   NaN  cliente212@outlook.com  2022-02-08   10    1   \n",
       "2  IN-1438   NaN    cliente251@gmail.com  2022-02-03    8    3   \n",
       "3  IN-1218   NaN   cliente97@outlook.com  2021-10-20   11    3   \n",
       "4  IN-1207   NaN  cliente211@outlook.com  2022-02-04   13    1   \n",
       "\n",
       "   preco_unitario  subtotal  desconto  total  \n",
       "0              60        60       0.0   60.0  \n",
       "1             145       145       0.0  145.0  \n",
       "2             130       390       0.0  390.0  \n",
       "3              60       180       0.0  180.0  \n",
       "4              70        70       0.0   70.0  "
      ]
     },
     "execution_count": 22,
     "metadata": {},
     "output_type": "execute_result"
    }
   ],
   "source": [
    "items.head()"
   ]
  },
  {
   "cell_type": "code",
   "execution_count": 20,
   "metadata": {},
   "outputs": [
    {
     "name": "stdout",
     "output_type": "stream",
     "text": [
      "<class 'pandas.core.frame.DataFrame'>\n",
      "RangeIndex: 802 entries, 0 to 801\n",
      "Data columns (total 10 columns):\n",
      " #   Column          Non-Null Count  Dtype         \n",
      "---  ------          --------------  -----         \n",
      " 0   Order ID        802 non-null    object        \n",
      " 1   Cupom           113 non-null    object        \n",
      " 2   Order_email     802 non-null    object        \n",
      " 3   Data Compra     802 non-null    datetime64[ns]\n",
      " 4   SKU             802 non-null    int64         \n",
      " 5   qtd             802 non-null    int64         \n",
      " 6   preco_unitario  802 non-null    int64         \n",
      " 7   subtotal        802 non-null    int64         \n",
      " 8   desconto        802 non-null    float64       \n",
      " 9   total           802 non-null    float64       \n",
      "dtypes: datetime64[ns](1), float64(2), int64(4), object(3)\n",
      "memory usage: 62.8+ KB\n"
     ]
    }
   ],
   "source": [
    "items.info()"
   ]
  },
  {
   "cell_type": "code",
   "execution_count": 68,
   "metadata": {},
   "outputs": [
    {
     "data": {
      "text/plain": [
       "IN-1263    4\n",
       "IN-1030    4\n",
       "IN-1063    3\n",
       "IN-1197    3\n",
       "IN-1094    3\n",
       "          ..\n",
       "IN-1119    1\n",
       "IN-1117    1\n",
       "IN-1351    1\n",
       "IN-1343    1\n",
       "IN-1274    1\n",
       "Name: Order ID, Length: 550, dtype: int64"
      ]
     },
     "execution_count": 68,
     "metadata": {},
     "output_type": "execute_result"
    }
   ],
   "source": [
    "items['Order ID'].value_counts()"
   ]
  },
  {
   "cell_type": "code",
   "execution_count": 69,
   "metadata": {},
   "outputs": [
    {
     "data": {
      "text/plain": [
       "cliente251@gmail.com       17\n",
       "cliente289@gmail.com       16\n",
       "cliente141@gmail.com       15\n",
       "cliente68@gmail.com        15\n",
       "cliente195@yahoo.com.br    15\n",
       "                           ..\n",
       "cliente105@bol.com.br       1\n",
       "cliente161@yahoo.com.br     1\n",
       "cliente82@outlook.com       1\n",
       "cliente226@yahoo.com.br     1\n",
       "cliente295@yahoo.com.br     1\n",
       "Name: Order_email, Length: 272, dtype: int64"
      ]
     },
     "execution_count": 69,
     "metadata": {},
     "output_type": "execute_result"
    }
   ],
   "source": [
    "items['Order_email'].value_counts()"
   ]
  },
  {
   "cell_type": "markdown",
   "metadata": {},
   "source": [
    "**Insights:**\n",
    "- 15% of orders made with Coupons\n",
    "- There are repeated Order ID's. Implying..?\n",
    "- Some clients ordered only once, others ordered items over 15 times each. Keep those in mind."
   ]
  },
  {
   "cell_type": "markdown",
   "metadata": {},
   "source": [
    "**Additional checks below**"
   ]
  },
  {
   "cell_type": "code",
   "execution_count": 65,
   "metadata": {},
   "outputs": [
    {
     "data": {
      "text/plain": [
       "Order ID            0\n",
       "Cupom             689\n",
       "Order_email         0\n",
       "Data Compra         0\n",
       "SKU                 0\n",
       "qtd                 0\n",
       "preco_unitario      0\n",
       "subtotal            0\n",
       "desconto            0\n",
       "total               0\n",
       "dtype: int64"
      ]
     },
     "execution_count": 65,
     "metadata": {},
     "output_type": "execute_result"
    }
   ],
   "source": [
    "items.isna().sum()"
   ]
  },
  {
   "cell_type": "markdown",
   "metadata": {},
   "source": [
    "**Final Remarks**\n",
    "- No cleaning necessary.\n",
    "- Create histograms over date to check for pattens.\n",
    "- Analyze total revenue and impact of discounts, as well as any relationships with clients."
   ]
  },
  {
   "cell_type": "markdown",
   "metadata": {},
   "source": [
    "<center> <span style=\"font-family:newtimeroman\"> <span style=\"padding:5px;color:white;display:fill;border-radius:20px 50px;background-color:#FDD667;font-size:200%;font-weight: 500;color:#111423;overflow:hidden;\">ㅤDim_product Datasetㅤ</span>"
   ]
  },
  {
   "cell_type": "code",
   "execution_count": 23,
   "metadata": {},
   "outputs": [],
   "source": [
    "dim = pd.read_excel(\"data/Base Case CRM 2022 - dim_product.xlsx\")"
   ]
  },
  {
   "cell_type": "code",
   "execution_count": 70,
   "metadata": {},
   "outputs": [
    {
     "data": {
      "text/html": [
       "<div>\n",
       "<style scoped>\n",
       "    .dataframe tbody tr th:only-of-type {\n",
       "        vertical-align: middle;\n",
       "    }\n",
       "\n",
       "    .dataframe tbody tr th {\n",
       "        vertical-align: top;\n",
       "    }\n",
       "\n",
       "    .dataframe thead th {\n",
       "        text-align: right;\n",
       "    }\n",
       "</style>\n",
       "<table border=\"1\" class=\"dataframe\">\n",
       "  <thead>\n",
       "    <tr style=\"text-align: right;\">\n",
       "      <th></th>\n",
       "      <th>SKU</th>\n",
       "      <th>Nome do Produto</th>\n",
       "      <th>Gênero</th>\n",
       "      <th>Categoria</th>\n",
       "      <th>Preço</th>\n",
       "    </tr>\n",
       "  </thead>\n",
       "  <tbody>\n",
       "    <tr>\n",
       "      <th>0</th>\n",
       "      <td>1</td>\n",
       "      <td>T-Shirt Esportiva Masculina</td>\n",
       "      <td>Masculino</td>\n",
       "      <td>Esportivos</td>\n",
       "      <td>160</td>\n",
       "    </tr>\n",
       "    <tr>\n",
       "      <th>1</th>\n",
       "      <td>2</td>\n",
       "      <td>Motions Shorts</td>\n",
       "      <td>Feminino</td>\n",
       "      <td>Esportivos</td>\n",
       "      <td>210</td>\n",
       "    </tr>\n",
       "    <tr>\n",
       "      <th>2</th>\n",
       "      <td>3</td>\n",
       "      <td>Legging</td>\n",
       "      <td>Feminino</td>\n",
       "      <td>Esportivos</td>\n",
       "      <td>300</td>\n",
       "    </tr>\n",
       "    <tr>\n",
       "      <th>3</th>\n",
       "      <td>4</td>\n",
       "      <td>Top</td>\n",
       "      <td>Feminino</td>\n",
       "      <td>Esportivos</td>\n",
       "      <td>200</td>\n",
       "    </tr>\n",
       "    <tr>\n",
       "      <th>4</th>\n",
       "      <td>5</td>\n",
       "      <td>Cueca Performance</td>\n",
       "      <td>Masculino</td>\n",
       "      <td>Esportivos</td>\n",
       "      <td>70</td>\n",
       "    </tr>\n",
       "    <tr>\n",
       "      <th>5</th>\n",
       "      <td>6</td>\n",
       "      <td>Meia</td>\n",
       "      <td>NaN</td>\n",
       "      <td>Casual</td>\n",
       "      <td>45</td>\n",
       "    </tr>\n",
       "    <tr>\n",
       "      <th>6</th>\n",
       "      <td>7</td>\n",
       "      <td>Wingsuit</td>\n",
       "      <td>Feminino</td>\n",
       "      <td>Casual</td>\n",
       "      <td>400</td>\n",
       "    </tr>\n",
       "    <tr>\n",
       "      <th>7</th>\n",
       "      <td>8</td>\n",
       "      <td>T-Shirt Masculina</td>\n",
       "      <td>Masculino</td>\n",
       "      <td>Casual</td>\n",
       "      <td>130</td>\n",
       "    </tr>\n",
       "    <tr>\n",
       "      <th>8</th>\n",
       "      <td>9</td>\n",
       "      <td>T-Shirt Feminina</td>\n",
       "      <td>Feminino</td>\n",
       "      <td>Casual</td>\n",
       "      <td>135</td>\n",
       "    </tr>\n",
       "    <tr>\n",
       "      <th>9</th>\n",
       "      <td>10</td>\n",
       "      <td>T-Shirt Manga Longa</td>\n",
       "      <td>Feminino</td>\n",
       "      <td>Casual</td>\n",
       "      <td>145</td>\n",
       "    </tr>\n",
       "    <tr>\n",
       "      <th>10</th>\n",
       "      <td>11</td>\n",
       "      <td>Cueca Simples</td>\n",
       "      <td>Masculino</td>\n",
       "      <td>Underwear</td>\n",
       "      <td>60</td>\n",
       "    </tr>\n",
       "    <tr>\n",
       "      <th>11</th>\n",
       "      <td>12</td>\n",
       "      <td>Sutiã Flex</td>\n",
       "      <td>Feminino</td>\n",
       "      <td>Underwear</td>\n",
       "      <td>150</td>\n",
       "    </tr>\n",
       "    <tr>\n",
       "      <th>12</th>\n",
       "      <td>13</td>\n",
       "      <td>Calcinha</td>\n",
       "      <td>Feminino</td>\n",
       "      <td>Underwear</td>\n",
       "      <td>75</td>\n",
       "    </tr>\n",
       "  </tbody>\n",
       "</table>\n",
       "</div>"
      ],
      "text/plain": [
       "    SKU              Nome do Produto     Gênero   Categoria  Preço\n",
       "0     1  T-Shirt Esportiva Masculina  Masculino  Esportivos    160\n",
       "1     2               Motions Shorts   Feminino  Esportivos    210\n",
       "2     3                      Legging   Feminino  Esportivos    300\n",
       "3     4                          Top   Feminino  Esportivos    200\n",
       "4     5            Cueca Performance  Masculino  Esportivos     70\n",
       "5     6                         Meia        NaN      Casual     45\n",
       "6     7                     Wingsuit   Feminino      Casual    400\n",
       "7     8            T-Shirt Masculina  Masculino      Casual    130\n",
       "8     9             T-Shirt Feminina   Feminino      Casual    135\n",
       "9    10          T-Shirt Manga Longa   Feminino      Casual    145\n",
       "10   11                Cueca Simples  Masculino   Underwear     60\n",
       "11   12                   Sutiã Flex   Feminino   Underwear    150\n",
       "12   13                     Calcinha   Feminino   Underwear     75"
      ]
     },
     "execution_count": 70,
     "metadata": {},
     "output_type": "execute_result"
    }
   ],
   "source": [
    "dim"
   ]
  },
  {
   "cell_type": "code",
   "execution_count": 25,
   "metadata": {},
   "outputs": [
    {
     "name": "stdout",
     "output_type": "stream",
     "text": [
      "<class 'pandas.core.frame.DataFrame'>\n",
      "RangeIndex: 13 entries, 0 to 12\n",
      "Data columns (total 5 columns):\n",
      " #   Column           Non-Null Count  Dtype \n",
      "---  ------           --------------  ----- \n",
      " 0   SKU              13 non-null     int64 \n",
      " 1   Nome do Produto  13 non-null     object\n",
      " 2   Gênero           12 non-null     object\n",
      " 3   Categoria        13 non-null     object\n",
      " 4   Preço            13 non-null     int64 \n",
      "dtypes: int64(2), object(3)\n",
      "memory usage: 648.0+ bytes\n"
     ]
    }
   ],
   "source": [
    "dim.info()"
   ]
  },
  {
   "cell_type": "code",
   "execution_count": 72,
   "metadata": {},
   "outputs": [
    {
     "data": {
      "text/plain": [
       "Feminino     8\n",
       "Masculino    4\n",
       "Name: Gênero, dtype: int64"
      ]
     },
     "execution_count": 72,
     "metadata": {},
     "output_type": "execute_result"
    }
   ],
   "source": [
    "dim['Gênero'].value_counts()"
   ]
  },
  {
   "cell_type": "code",
   "execution_count": 73,
   "metadata": {},
   "outputs": [
    {
     "data": {
      "text/plain": [
       "Esportivos    5\n",
       "Casual        5\n",
       "Underwear     3\n",
       "Name: Categoria, dtype: int64"
      ]
     },
     "execution_count": 73,
     "metadata": {},
     "output_type": "execute_result"
    }
   ],
   "source": [
    "dim['Categoria'].value_counts()"
   ]
  },
  {
   "cell_type": "markdown",
   "metadata": {},
   "source": [
    "**Insights:**\n",
    "- 13 Insider unique products\n",
    "- 8 for women, 4 for men, 1 neutral (socks)\n",
    "- Types: 5 sports, 5 casual, 3 underwear"
   ]
  },
  {
   "cell_type": "markdown",
   "metadata": {},
   "source": [
    "**Final Remarks**\n",
    "- No cleaning necessary.\n",
    "- Cross with sales to find most requested items."
   ]
  },
  {
   "cell_type": "markdown",
   "metadata": {},
   "source": [
    "<center> <span style=\"font-family:newtimeroman\"> <span style=\"padding:5px;color:white;display:fill;border-radius:20px 50px;background-color:#FDD667;font-size:200%;font-weight: 500;color:#111423;overflow:hidden;\">ㅤFebruary Datasetㅤ</span>"
   ]
  },
  {
   "cell_type": "code",
   "execution_count": 83,
   "metadata": {},
   "outputs": [],
   "source": [
    "fev = pd.read_excel(\"data/Case CRM Fev 2022.xlsx\")"
   ]
  },
  {
   "cell_type": "code",
   "execution_count": 29,
   "metadata": {},
   "outputs": [
    {
     "data": {
      "text/html": [
       "<div>\n",
       "<style scoped>\n",
       "    .dataframe tbody tr th:only-of-type {\n",
       "        vertical-align: middle;\n",
       "    }\n",
       "\n",
       "    .dataframe tbody tr th {\n",
       "        vertical-align: top;\n",
       "    }\n",
       "\n",
       "    .dataframe thead th {\n",
       "        text-align: right;\n",
       "    }\n",
       "</style>\n",
       "<table border=\"1\" class=\"dataframe\">\n",
       "  <thead>\n",
       "    <tr style=\"text-align: right;\">\n",
       "      <th></th>\n",
       "      <th>Unnamed: 0</th>\n",
       "      <th>Unnamed: 1</th>\n",
       "      <th>Unnamed: 2</th>\n",
       "      <th>Unnamed: 3</th>\n",
       "      <th>Unnamed: 4</th>\n",
       "      <th>Unnamed: 5</th>\n",
       "      <th>Unnamed: 6</th>\n",
       "      <th>Unnamed: 7</th>\n",
       "    </tr>\n",
       "  </thead>\n",
       "  <tbody>\n",
       "    <tr>\n",
       "      <th>0</th>\n",
       "      <td>NaN</td>\n",
       "      <td>NaN</td>\n",
       "      <td>NaN</td>\n",
       "      <td>NaN</td>\n",
       "      <td>NaN</td>\n",
       "      <td>NaN</td>\n",
       "      <td>NaN</td>\n",
       "      <td>NaN</td>\n",
       "    </tr>\n",
       "    <tr>\n",
       "      <th>1</th>\n",
       "      <td>NaN</td>\n",
       "      <td>Tema/Categoria</td>\n",
       "      <td>Data envio</td>\n",
       "      <td># envios</td>\n",
       "      <td># unsubscribers</td>\n",
       "      <td># cliques</td>\n",
       "      <td>Taxa de abertura</td>\n",
       "      <td>Receita</td>\n",
       "    </tr>\n",
       "    <tr>\n",
       "      <th>2</th>\n",
       "      <td>NaN</td>\n",
       "      <td>Camiseta H - last hours</td>\n",
       "      <td>[10022022]</td>\n",
       "      <td>46964.395537</td>\n",
       "      <td>46.791553</td>\n",
       "      <td>593.011318</td>\n",
       "      <td>0.230711</td>\n",
       "      <td>35571.702739</td>\n",
       "    </tr>\n",
       "    <tr>\n",
       "      <th>3</th>\n",
       "      <td>NaN</td>\n",
       "      <td>Camiseta H - promo 10%off</td>\n",
       "      <td>[10022022]</td>\n",
       "      <td>30283.684262</td>\n",
       "      <td>33.422538</td>\n",
       "      <td>482.239478</td>\n",
       "      <td>0.200058</td>\n",
       "      <td>25001.930123</td>\n",
       "    </tr>\n",
       "    <tr>\n",
       "      <th>4</th>\n",
       "      <td>NaN</td>\n",
       "      <td>Back in stock H / Lancamento camiseta M</td>\n",
       "      <td>[07022022]</td>\n",
       "      <td>48276.468888</td>\n",
       "      <td>69.709865</td>\n",
       "      <td>741.980345</td>\n",
       "      <td>0.271296</td>\n",
       "      <td>23923.193834</td>\n",
       "    </tr>\n",
       "  </tbody>\n",
       "</table>\n",
       "</div>"
      ],
      "text/plain": [
       "   Unnamed: 0                               Unnamed: 1  Unnamed: 2  \\\n",
       "0         NaN                                      NaN         NaN   \n",
       "1         NaN                           Tema/Categoria  Data envio   \n",
       "2         NaN                  Camiseta H - last hours  [10022022]   \n",
       "3         NaN                Camiseta H - promo 10%off  [10022022]   \n",
       "4         NaN  Back in stock H / Lancamento camiseta M  [07022022]   \n",
       "\n",
       "     Unnamed: 3       Unnamed: 4  Unnamed: 5        Unnamed: 6    Unnamed: 7  \n",
       "0           NaN              NaN         NaN               NaN           NaN  \n",
       "1      # envios  # unsubscribers   # cliques  Taxa de abertura       Receita  \n",
       "2  46964.395537        46.791553  593.011318          0.230711  35571.702739  \n",
       "3  30283.684262        33.422538  482.239478          0.200058  25001.930123  \n",
       "4  48276.468888        69.709865  741.980345          0.271296  23923.193834  "
      ]
     },
     "execution_count": 29,
     "metadata": {},
     "output_type": "execute_result"
    }
   ],
   "source": [
    "fev.head()"
   ]
  },
  {
   "cell_type": "code",
   "execution_count": 30,
   "metadata": {},
   "outputs": [
    {
     "name": "stdout",
     "output_type": "stream",
     "text": [
      "<class 'pandas.core.frame.DataFrame'>\n",
      "RangeIndex: 48 entries, 0 to 47\n",
      "Data columns (total 8 columns):\n",
      " #   Column      Non-Null Count  Dtype  \n",
      "---  ------      --------------  -----  \n",
      " 0   Unnamed: 0  0 non-null      float64\n",
      " 1   Unnamed: 1  47 non-null     object \n",
      " 2   Unnamed: 2  46 non-null     object \n",
      " 3   Unnamed: 3  47 non-null     object \n",
      " 4   Unnamed: 4  47 non-null     object \n",
      " 5   Unnamed: 5  47 non-null     object \n",
      " 6   Unnamed: 6  47 non-null     object \n",
      " 7   Unnamed: 7  47 non-null     object \n",
      "dtypes: float64(1), object(7)\n",
      "memory usage: 3.1+ KB\n"
     ]
    }
   ],
   "source": [
    "fev.info()"
   ]
  },
  {
   "cell_type": "code",
   "execution_count": 84,
   "metadata": {},
   "outputs": [],
   "source": [
    "fev.drop(labels='Unnamed: 0',axis=1,inplace=True)"
   ]
  },
  {
   "cell_type": "code",
   "execution_count": 86,
   "metadata": {},
   "outputs": [],
   "source": [
    "fev.drop(labels=0,axis=0,inplace=True)"
   ]
  },
  {
   "cell_type": "code",
   "execution_count": 87,
   "metadata": {},
   "outputs": [
    {
     "data": {
      "text/html": [
       "<div>\n",
       "<style scoped>\n",
       "    .dataframe tbody tr th:only-of-type {\n",
       "        vertical-align: middle;\n",
       "    }\n",
       "\n",
       "    .dataframe tbody tr th {\n",
       "        vertical-align: top;\n",
       "    }\n",
       "\n",
       "    .dataframe thead th {\n",
       "        text-align: right;\n",
       "    }\n",
       "</style>\n",
       "<table border=\"1\" class=\"dataframe\">\n",
       "  <thead>\n",
       "    <tr style=\"text-align: right;\">\n",
       "      <th></th>\n",
       "      <th>Unnamed: 1</th>\n",
       "      <th>Unnamed: 2</th>\n",
       "      <th>Unnamed: 3</th>\n",
       "      <th>Unnamed: 4</th>\n",
       "      <th>Unnamed: 5</th>\n",
       "      <th>Unnamed: 6</th>\n",
       "      <th>Unnamed: 7</th>\n",
       "    </tr>\n",
       "  </thead>\n",
       "  <tbody>\n",
       "    <tr>\n",
       "      <th>1</th>\n",
       "      <td>Tema/Categoria</td>\n",
       "      <td>Data envio</td>\n",
       "      <td># envios</td>\n",
       "      <td># unsubscribers</td>\n",
       "      <td># cliques</td>\n",
       "      <td>Taxa de abertura</td>\n",
       "      <td>Receita</td>\n",
       "    </tr>\n",
       "    <tr>\n",
       "      <th>2</th>\n",
       "      <td>Camiseta H - last hours</td>\n",
       "      <td>[10022022]</td>\n",
       "      <td>46964.395537</td>\n",
       "      <td>46.791553</td>\n",
       "      <td>593.011318</td>\n",
       "      <td>0.230711</td>\n",
       "      <td>35571.702739</td>\n",
       "    </tr>\n",
       "    <tr>\n",
       "      <th>3</th>\n",
       "      <td>Camiseta H - promo 10%off</td>\n",
       "      <td>[10022022]</td>\n",
       "      <td>30283.684262</td>\n",
       "      <td>33.422538</td>\n",
       "      <td>482.239478</td>\n",
       "      <td>0.200058</td>\n",
       "      <td>25001.930123</td>\n",
       "    </tr>\n",
       "    <tr>\n",
       "      <th>4</th>\n",
       "      <td>Back in stock H / Lancamento camiseta M</td>\n",
       "      <td>[07022022]</td>\n",
       "      <td>48276.468888</td>\n",
       "      <td>69.709865</td>\n",
       "      <td>741.980345</td>\n",
       "      <td>0.271296</td>\n",
       "      <td>23923.193834</td>\n",
       "    </tr>\n",
       "    <tr>\n",
       "      <th>5</th>\n",
       "      <td>Cor nova camiseta H</td>\n",
       "      <td>[07022022]</td>\n",
       "      <td>47609.927986</td>\n",
       "      <td>77.349302</td>\n",
       "      <td>737.205696</td>\n",
       "      <td>0.253438</td>\n",
       "      <td>40891.997838</td>\n",
       "    </tr>\n",
       "  </tbody>\n",
       "</table>\n",
       "</div>"
      ],
      "text/plain": [
       "                                Unnamed: 1  Unnamed: 2    Unnamed: 3  \\\n",
       "1                           Tema/Categoria  Data envio      # envios   \n",
       "2                  Camiseta H - last hours  [10022022]  46964.395537   \n",
       "3                Camiseta H - promo 10%off  [10022022]  30283.684262   \n",
       "4  Back in stock H / Lancamento camiseta M  [07022022]  48276.468888   \n",
       "5                      Cor nova camiseta H  [07022022]  47609.927986   \n",
       "\n",
       "        Unnamed: 4  Unnamed: 5        Unnamed: 6    Unnamed: 7  \n",
       "1  # unsubscribers   # cliques  Taxa de abertura       Receita  \n",
       "2        46.791553  593.011318          0.230711  35571.702739  \n",
       "3        33.422538  482.239478          0.200058  25001.930123  \n",
       "4        69.709865  741.980345          0.271296  23923.193834  \n",
       "5        77.349302  737.205696          0.253438  40891.997838  "
      ]
     },
     "execution_count": 87,
     "metadata": {},
     "output_type": "execute_result"
    }
   ],
   "source": [
    "fev.head()"
   ]
  },
  {
   "cell_type": "code",
   "execution_count": 91,
   "metadata": {},
   "outputs": [],
   "source": [
    "fev = fev.rename(columns=fev.iloc[0]).drop(fev.index[0])"
   ]
  },
  {
   "cell_type": "code",
   "execution_count": 92,
   "metadata": {},
   "outputs": [
    {
     "data": {
      "text/html": [
       "<div>\n",
       "<style scoped>\n",
       "    .dataframe tbody tr th:only-of-type {\n",
       "        vertical-align: middle;\n",
       "    }\n",
       "\n",
       "    .dataframe tbody tr th {\n",
       "        vertical-align: top;\n",
       "    }\n",
       "\n",
       "    .dataframe thead th {\n",
       "        text-align: right;\n",
       "    }\n",
       "</style>\n",
       "<table border=\"1\" class=\"dataframe\">\n",
       "  <thead>\n",
       "    <tr style=\"text-align: right;\">\n",
       "      <th></th>\n",
       "      <th>Tema/Categoria</th>\n",
       "      <th>Data envio</th>\n",
       "      <th># envios</th>\n",
       "      <th># unsubscribers</th>\n",
       "      <th># cliques</th>\n",
       "      <th>Taxa de abertura</th>\n",
       "      <th>Receita</th>\n",
       "    </tr>\n",
       "  </thead>\n",
       "  <tbody>\n",
       "    <tr>\n",
       "      <th>2</th>\n",
       "      <td>Camiseta H - last hours</td>\n",
       "      <td>[10022022]</td>\n",
       "      <td>46964.395537</td>\n",
       "      <td>46.791553</td>\n",
       "      <td>593.011318</td>\n",
       "      <td>0.230711</td>\n",
       "      <td>35571.702739</td>\n",
       "    </tr>\n",
       "    <tr>\n",
       "      <th>3</th>\n",
       "      <td>Camiseta H - promo 10%off</td>\n",
       "      <td>[10022022]</td>\n",
       "      <td>30283.684262</td>\n",
       "      <td>33.422538</td>\n",
       "      <td>482.239478</td>\n",
       "      <td>0.200058</td>\n",
       "      <td>25001.930123</td>\n",
       "    </tr>\n",
       "    <tr>\n",
       "      <th>4</th>\n",
       "      <td>Back in stock H / Lancamento camiseta M</td>\n",
       "      <td>[07022022]</td>\n",
       "      <td>48276.468888</td>\n",
       "      <td>69.709865</td>\n",
       "      <td>741.980345</td>\n",
       "      <td>0.271296</td>\n",
       "      <td>23923.193834</td>\n",
       "    </tr>\n",
       "    <tr>\n",
       "      <th>5</th>\n",
       "      <td>Cor nova camiseta H</td>\n",
       "      <td>[07022022]</td>\n",
       "      <td>47609.927986</td>\n",
       "      <td>77.349302</td>\n",
       "      <td>737.205696</td>\n",
       "      <td>0.253438</td>\n",
       "      <td>40891.997838</td>\n",
       "    </tr>\n",
       "    <tr>\n",
       "      <th>6</th>\n",
       "      <td>Recap Semanal Camiseta ambos</td>\n",
       "      <td>[13022022]</td>\n",
       "      <td>34620.974771</td>\n",
       "      <td>65.890146</td>\n",
       "      <td>486.059196</td>\n",
       "      <td>0.238159</td>\n",
       "      <td>21179.75732</td>\n",
       "    </tr>\n",
       "  </tbody>\n",
       "</table>\n",
       "</div>"
      ],
      "text/plain": [
       "                            Tema/Categoria  Data envio      # envios  \\\n",
       "2                  Camiseta H - last hours  [10022022]  46964.395537   \n",
       "3                Camiseta H - promo 10%off  [10022022]  30283.684262   \n",
       "4  Back in stock H / Lancamento camiseta M  [07022022]  48276.468888   \n",
       "5                      Cor nova camiseta H  [07022022]  47609.927986   \n",
       "6             Recap Semanal Camiseta ambos  [13022022]  34620.974771   \n",
       "\n",
       "  # unsubscribers   # cliques Taxa de abertura       Receita  \n",
       "2       46.791553  593.011318         0.230711  35571.702739  \n",
       "3       33.422538  482.239478         0.200058  25001.930123  \n",
       "4       69.709865  741.980345         0.271296  23923.193834  \n",
       "5       77.349302  737.205696         0.253438  40891.997838  \n",
       "6       65.890146  486.059196         0.238159   21179.75732  "
      ]
     },
     "execution_count": 92,
     "metadata": {},
     "output_type": "execute_result"
    }
   ],
   "source": [
    "fev.head()"
   ]
  },
  {
   "cell_type": "code",
   "execution_count": 93,
   "metadata": {},
   "outputs": [
    {
     "data": {
      "text/plain": [
       "Index(['Tema/Categoria', 'Data envio', '# envios', '# unsubscribers',\n",
       "       '# cliques', 'Taxa de abertura', 'Receita'],\n",
       "      dtype='object')"
      ]
     },
     "execution_count": 93,
     "metadata": {},
     "output_type": "execute_result"
    }
   ],
   "source": [
    "fev.columns"
   ]
  },
  {
   "cell_type": "code",
   "execution_count": 104,
   "metadata": {},
   "outputs": [],
   "source": [
    "fev['Data envio'] = fev['Data envio'].str.lstrip('[')"
   ]
  },
  {
   "cell_type": "code",
   "execution_count": 105,
   "metadata": {},
   "outputs": [],
   "source": [
    "fev['Data envio'] = fev['Data envio'].str.rstrip(']')"
   ]
  },
  {
   "cell_type": "code",
   "execution_count": 112,
   "metadata": {},
   "outputs": [],
   "source": [
    "fev['Data envio'] = pd.to_datetime(fev['Data envio'],format='%d%m%Y')"
   ]
  },
  {
   "cell_type": "code",
   "execution_count": 115,
   "metadata": {},
   "outputs": [
    {
     "data": {
      "text/html": [
       "<div>\n",
       "<style scoped>\n",
       "    .dataframe tbody tr th:only-of-type {\n",
       "        vertical-align: middle;\n",
       "    }\n",
       "\n",
       "    .dataframe tbody tr th {\n",
       "        vertical-align: top;\n",
       "    }\n",
       "\n",
       "    .dataframe thead th {\n",
       "        text-align: right;\n",
       "    }\n",
       "</style>\n",
       "<table border=\"1\" class=\"dataframe\">\n",
       "  <thead>\n",
       "    <tr style=\"text-align: right;\">\n",
       "      <th></th>\n",
       "      <th>Tema/Categoria</th>\n",
       "      <th>Data envio</th>\n",
       "      <th># envios</th>\n",
       "      <th># unsubscribers</th>\n",
       "      <th># cliques</th>\n",
       "      <th>Taxa de abertura</th>\n",
       "      <th>Receita</th>\n",
       "    </tr>\n",
       "  </thead>\n",
       "  <tbody>\n",
       "    <tr>\n",
       "      <th>2</th>\n",
       "      <td>Camiseta H - last hours</td>\n",
       "      <td>2022-02-10</td>\n",
       "      <td>46964.395537</td>\n",
       "      <td>46.791553</td>\n",
       "      <td>593.011318</td>\n",
       "      <td>0.230711</td>\n",
       "      <td>35571.702739</td>\n",
       "    </tr>\n",
       "    <tr>\n",
       "      <th>3</th>\n",
       "      <td>Camiseta H - promo 10%off</td>\n",
       "      <td>2022-02-10</td>\n",
       "      <td>30283.684262</td>\n",
       "      <td>33.422538</td>\n",
       "      <td>482.239478</td>\n",
       "      <td>0.200058</td>\n",
       "      <td>25001.930123</td>\n",
       "    </tr>\n",
       "    <tr>\n",
       "      <th>4</th>\n",
       "      <td>Back in stock H / Lancamento camiseta M</td>\n",
       "      <td>2022-02-07</td>\n",
       "      <td>48276.468888</td>\n",
       "      <td>69.709865</td>\n",
       "      <td>741.980345</td>\n",
       "      <td>0.271296</td>\n",
       "      <td>23923.193834</td>\n",
       "    </tr>\n",
       "    <tr>\n",
       "      <th>5</th>\n",
       "      <td>Cor nova camiseta H</td>\n",
       "      <td>2022-02-07</td>\n",
       "      <td>47609.927986</td>\n",
       "      <td>77.349302</td>\n",
       "      <td>737.205696</td>\n",
       "      <td>0.253438</td>\n",
       "      <td>40891.997838</td>\n",
       "    </tr>\n",
       "    <tr>\n",
       "      <th>6</th>\n",
       "      <td>Recap Semanal Camiseta ambos</td>\n",
       "      <td>2022-02-13</td>\n",
       "      <td>34620.974771</td>\n",
       "      <td>65.890146</td>\n",
       "      <td>486.059196</td>\n",
       "      <td>0.238159</td>\n",
       "      <td>21179.75732</td>\n",
       "    </tr>\n",
       "  </tbody>\n",
       "</table>\n",
       "</div>"
      ],
      "text/plain": [
       "                            Tema/Categoria Data envio      # envios  \\\n",
       "2                  Camiseta H - last hours 2022-02-10  46964.395537   \n",
       "3                Camiseta H - promo 10%off 2022-02-10  30283.684262   \n",
       "4  Back in stock H / Lancamento camiseta M 2022-02-07  48276.468888   \n",
       "5                      Cor nova camiseta H 2022-02-07  47609.927986   \n",
       "6             Recap Semanal Camiseta ambos 2022-02-13  34620.974771   \n",
       "\n",
       "  # unsubscribers   # cliques Taxa de abertura       Receita  \n",
       "2       46.791553  593.011318         0.230711  35571.702739  \n",
       "3       33.422538  482.239478         0.200058  25001.930123  \n",
       "4       69.709865  741.980345         0.271296  23923.193834  \n",
       "5       77.349302  737.205696         0.253438  40891.997838  \n",
       "6       65.890146  486.059196         0.238159   21179.75732  "
      ]
     },
     "execution_count": 115,
     "metadata": {},
     "output_type": "execute_result"
    }
   ],
   "source": [
    "fev.head() #date converted to datetime"
   ]
  },
  {
   "cell_type": "code",
   "execution_count": 114,
   "metadata": {},
   "outputs": [
    {
     "name": "stdout",
     "output_type": "stream",
     "text": [
      "<class 'pandas.core.frame.DataFrame'>\n",
      "RangeIndex: 46 entries, 2 to 47\n",
      "Data columns (total 7 columns):\n",
      " #   Column            Non-Null Count  Dtype         \n",
      "---  ------            --------------  -----         \n",
      " 0   Tema/Categoria    46 non-null     object        \n",
      " 1   Data envio        45 non-null     datetime64[ns]\n",
      " 2   # envios          46 non-null     object        \n",
      " 3   # unsubscribers   46 non-null     object        \n",
      " 4   # cliques         46 non-null     object        \n",
      " 5   Taxa de abertura  46 non-null     object        \n",
      " 6   Receita           46 non-null     object        \n",
      "dtypes: datetime64[ns](1), object(6)\n",
      "memory usage: 2.6+ KB\n"
     ]
    }
   ],
   "source": [
    "fev.info()"
   ]
  },
  {
   "cell_type": "code",
   "execution_count": 117,
   "metadata": {},
   "outputs": [],
   "source": [
    "fev['# envios'] = fev['# envios'].astype(int)"
   ]
  },
  {
   "cell_type": "code",
   "execution_count": 118,
   "metadata": {},
   "outputs": [],
   "source": [
    "fev['# unsubscribers'] = fev['# unsubscribers'].astype(int)"
   ]
  },
  {
   "cell_type": "code",
   "execution_count": 119,
   "metadata": {},
   "outputs": [],
   "source": [
    "fev['# cliques'] = fev['# cliques'].astype(int)\n"
   ]
  },
  {
   "cell_type": "code",
   "execution_count": 123,
   "metadata": {},
   "outputs": [],
   "source": [
    "fev['Taxa de abertura'] = fev['Taxa de abertura'].astype(float).round(2)"
   ]
  },
  {
   "cell_type": "markdown",
   "metadata": {},
   "source": [
    "**Insights:**\n",
    "- 297 unique clients, 189 male (63.6%), 85 female (28.6%) and 23 undeclared (7.7%)\n",
    "- 40% of all clients from SP, followed by ~10% each from RJ, MG. Overall, the SE region accounts for ~60% of clients."
   ]
  },
  {
   "cell_type": "markdown",
   "metadata": {},
   "source": [
    "**Final Remarks**\n",
    "- Some cleaning required. New header, dropped rows/columns of NaNs.\n",
    "- Date column converted to datetime\n",
    "- Rounded numerical columns \n",
    "- Exported as new clean xlsx"
   ]
  },
  {
   "cell_type": "code",
   "execution_count": 95,
   "metadata": {},
   "outputs": [],
   "source": [
    "fev_clean = fev"
   ]
  },
  {
   "cell_type": "code",
   "execution_count": null,
   "metadata": {},
   "outputs": [],
   "source": [
    "fev_clean.to_csv('fev_clean.csv')"
   ]
  }
 ],
 "metadata": {
  "kernelspec": {
   "display_name": "Python 3.9.13 ('base')",
   "language": "python",
   "name": "python3"
  },
  "language_info": {
   "codemirror_mode": {
    "name": "ipython",
    "version": 3
   },
   "file_extension": ".py",
   "mimetype": "text/x-python",
   "name": "python",
   "nbconvert_exporter": "python",
   "pygments_lexer": "ipython3",
   "version": "3.9.13"
  },
  "orig_nbformat": 4,
  "vscode": {
   "interpreter": {
    "hash": "88279d2366fe020547cde40dd65aa0e3aa662a6ec1f3ca12d88834876c85e1a6"
   }
  }
 },
 "nbformat": 4,
 "nbformat_minor": 2
}
